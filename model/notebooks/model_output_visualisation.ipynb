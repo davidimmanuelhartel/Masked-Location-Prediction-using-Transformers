{
 "cells": [
  {
   "cell_type": "code",
   "execution_count": 3,
   "metadata": {},
   "outputs": [
    {
     "ename": "TypeError",
     "evalue": "load_model_data() missing 1 required positional argument: 'variant'",
     "output_type": "error",
     "traceback": [
      "\u001b[0;31m---------------------------------------------------------------------------\u001b[0m",
      "\u001b[0;31mTypeError\u001b[0m                                 Traceback (most recent call last)",
      "Cell \u001b[0;32mIn[3], line 8\u001b[0m\n\u001b[1;32m      4\u001b[0m sys\u001b[38;5;241m.\u001b[39mpath\u001b[38;5;241m.\u001b[39minsert(\u001b[38;5;241m0\u001b[39m, \u001b[38;5;124m'\u001b[39m\u001b[38;5;124m../\u001b[39m\u001b[38;5;124m'\u001b[39m)\n\u001b[1;32m      6\u001b[0m \u001b[38;5;28;01mfrom\u001b[39;00m \u001b[38;5;21;01mevaluate_model\u001b[39;00m \u001b[38;5;28;01mimport\u001b[39;00m load_model_data\n\u001b[0;32m----> 8\u001b[0m measures, config \u001b[38;5;241m=\u001b[39m \u001b[43mload_model_data\u001b[49m\u001b[43m(\u001b[49m\u001b[43m \u001b[49m\u001b[43mvariant\u001b[49m\u001b[43m)\u001b[49m\n\u001b[1;32m     10\u001b[0m \u001b[38;5;66;03m# # extract data from the JSON\u001b[39;00m\n\u001b[1;32m     11\u001b[0m measures_tuple \u001b[38;5;241m=\u001b[39m \u001b[38;5;28mtuple\u001b[39m(measures[key] \u001b[38;5;28;01mfor\u001b[39;00m key \u001b[38;5;129;01min\u001b[39;00m \u001b[38;5;28msorted\u001b[39m(measures\u001b[38;5;241m.\u001b[39mkeys()))\n",
      "\u001b[0;31mTypeError\u001b[0m: load_model_data() missing 1 required positional argument: 'variant'"
     ]
    }
   ],
   "source": [
    "# load model data\n",
    "import sys\n",
    "variant = input(\"Enter the variant string: \")\n",
    "sys.path.insert(0, '../')\n",
    "\n",
    "from evaluate_model import load_model_data\n",
    "\n",
    "measures, config = load_model_data( variant)\n",
    "\n",
    "# # extract data from the JSON\n",
    "measures_tuple = tuple(measures[key] for key in sorted(measures.keys()))\n",
    "baseline_loss_list, train_accuracy_list, train_loss_list, val_accuracy_list, val_baseline_accuracy_list, validation_loss_list  = measures_tuple\n"
   ]
  }
 ],
 "metadata": {
  "kernelspec": {
   "display_name": "Python 3 (ipykernel)",
   "language": "python",
   "name": "python3"
  },
  "language_info": {
   "codemirror_mode": {
    "name": "ipython",
    "version": 3
   },
   "file_extension": ".py",
   "mimetype": "text/x-python",
   "name": "python",
   "nbconvert_exporter": "python",
   "pygments_lexer": "ipython3",
   "version": "3.9.18"
  }
 },
 "nbformat": 4,
 "nbformat_minor": 2
}
