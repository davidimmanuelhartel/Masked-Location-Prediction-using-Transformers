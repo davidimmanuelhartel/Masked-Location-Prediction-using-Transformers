{
 "cells": [
  {
   "cell_type": "markdown",
   "metadata": {},
   "source": [
    "# Stop location detection\n",
    "This notebook runs the stop detection algorithm (https://github.com/ulfaslak/infostop) on the time-ordered location data for each user. \n",
    "The goal is to identify the locations where the user has stopped for a certain amount of time.\n"
   ]
  },
  {
   "cell_type": "code",
   "execution_count": 1,
   "metadata": {},
   "outputs": [],
   "source": [
    "import pandas as pd\n",
    "import numpy as np\n",
    "import matplotlib.pyplot as plt\n"
   ]
  },
  {
   "cell_type": "code",
   "execution_count": 213,
   "metadata": {},
   "outputs": [],
   "source": [
    "# iterate through all files in /data/raw/sensible/location/byuser/ and load them into a list of numpy arrays\n",
    "import os\n",
    "data = []\n",
    "for file in os.listdir('/data/raw/sensible/location/byuser/'):\n",
    "    data.append(np.load('/data/raw/sensible/location/byuser/' + file))"
   ]
  },
  {
   "cell_type": "code",
   "execution_count": 15,
   "metadata": {},
   "outputs": [
    {
     "ename": "NameError",
     "evalue": "name 'data' is not defined",
     "output_type": "error",
     "traceback": [
      "\u001b[0;31m---------------------------------------------------------------------------\u001b[0m",
      "\u001b[0;31mNameError\u001b[0m                                 Traceback (most recent call last)",
      "\u001b[1;32m/data/home/s212588/notebooks/1_1_data_add_stoplocation.ipynb Cell 4\u001b[0m line \u001b[0;36m1\n\u001b[0;32m----> <a href='vscode-notebook-cell://ssh-remote%2Bheisenberg.compute.dtu.dk/data/home/s212588/notebooks/1_1_data_add_stoplocation.ipynb#W3sdnNjb2RlLXJlbW90ZQ%3D%3D?line=0'>1</a>\u001b[0m \u001b[39mlen\u001b[39m(data)\n",
      "\u001b[0;31mNameError\u001b[0m: name 'data' is not defined"
     ]
    }
   ],
   "source": [
    "len(data)"
   ]
  },
  {
   "cell_type": "code",
   "execution_count": 215,
   "metadata": {},
   "outputs": [],
   "source": [
    "# transform data to a dataframe\n",
    "df = pd.DataFrame(np.concatenate(data), columns=['user', 'timestamp', 'latitude', 'longitude', 'accuracy'])"
   ]
  },
  {
   "cell_type": "code",
   "execution_count": 216,
   "metadata": {},
   "outputs": [
    {
     "data": {
      "text/html": [
       "<div>\n",
       "<style scoped>\n",
       "    .dataframe tbody tr th:only-of-type {\n",
       "        vertical-align: middle;\n",
       "    }\n",
       "\n",
       "    .dataframe tbody tr th {\n",
       "        vertical-align: top;\n",
       "    }\n",
       "\n",
       "    .dataframe thead th {\n",
       "        text-align: right;\n",
       "    }\n",
       "</style>\n",
       "<table border=\"1\" class=\"dataframe\">\n",
       "  <thead>\n",
       "    <tr style=\"text-align: right;\">\n",
       "      <th></th>\n",
       "      <th>user</th>\n",
       "      <th>timestamp</th>\n",
       "      <th>latitude</th>\n",
       "      <th>longitude</th>\n",
       "      <th>accuracy</th>\n",
       "    </tr>\n",
       "  </thead>\n",
       "  <tbody>\n",
       "    <tr>\n",
       "      <th>0</th>\n",
       "      <td>153.0</td>\n",
       "      <td>1.386241e+09</td>\n",
       "      <td>55.783641</td>\n",
       "      <td>12.518414</td>\n",
       "      <td>30.689</td>\n",
       "    </tr>\n",
       "    <tr>\n",
       "      <th>1</th>\n",
       "      <td>153.0</td>\n",
       "      <td>1.386241e+09</td>\n",
       "      <td>55.783681</td>\n",
       "      <td>12.518372</td>\n",
       "      <td>28.185</td>\n",
       "    </tr>\n",
       "    <tr>\n",
       "      <th>2</th>\n",
       "      <td>153.0</td>\n",
       "      <td>1.386241e+09</td>\n",
       "      <td>55.783646</td>\n",
       "      <td>12.518382</td>\n",
       "      <td>30.841</td>\n",
       "    </tr>\n",
       "    <tr>\n",
       "      <th>3</th>\n",
       "      <td>153.0</td>\n",
       "      <td>1.386241e+09</td>\n",
       "      <td>55.783648</td>\n",
       "      <td>12.518408</td>\n",
       "      <td>21.368</td>\n",
       "    </tr>\n",
       "    <tr>\n",
       "      <th>4</th>\n",
       "      <td>153.0</td>\n",
       "      <td>1.386242e+09</td>\n",
       "      <td>55.783680</td>\n",
       "      <td>12.518435</td>\n",
       "      <td>21.000</td>\n",
       "    </tr>\n",
       "    <tr>\n",
       "      <th>...</th>\n",
       "      <td>...</td>\n",
       "      <td>...</td>\n",
       "      <td>...</td>\n",
       "      <td>...</td>\n",
       "      <td>...</td>\n",
       "    </tr>\n",
       "    <tr>\n",
       "      <th>245304792</th>\n",
       "      <td>99.0</td>\n",
       "      <td>1.406627e+09</td>\n",
       "      <td>55.740993</td>\n",
       "      <td>12.494146</td>\n",
       "      <td>20.000</td>\n",
       "    </tr>\n",
       "    <tr>\n",
       "      <th>245304793</th>\n",
       "      <td>99.0</td>\n",
       "      <td>1.406627e+09</td>\n",
       "      <td>55.740994</td>\n",
       "      <td>12.494182</td>\n",
       "      <td>24.000</td>\n",
       "    </tr>\n",
       "    <tr>\n",
       "      <th>245304794</th>\n",
       "      <td>99.0</td>\n",
       "      <td>1.406627e+09</td>\n",
       "      <td>55.740994</td>\n",
       "      <td>12.494161</td>\n",
       "      <td>15.364</td>\n",
       "    </tr>\n",
       "    <tr>\n",
       "      <th>245304795</th>\n",
       "      <td>99.0</td>\n",
       "      <td>1.406627e+09</td>\n",
       "      <td>55.740950</td>\n",
       "      <td>12.494317</td>\n",
       "      <td>25.065</td>\n",
       "    </tr>\n",
       "    <tr>\n",
       "      <th>245304796</th>\n",
       "      <td>99.0</td>\n",
       "      <td>1.406627e+09</td>\n",
       "      <td>55.740950</td>\n",
       "      <td>12.494317</td>\n",
       "      <td>25.065</td>\n",
       "    </tr>\n",
       "  </tbody>\n",
       "</table>\n",
       "<p>245304797 rows × 5 columns</p>\n",
       "</div>"
      ],
      "text/plain": [
       "            user     timestamp   latitude  longitude  accuracy\n",
       "0          153.0  1.386241e+09  55.783641  12.518414    30.689\n",
       "1          153.0  1.386241e+09  55.783681  12.518372    28.185\n",
       "2          153.0  1.386241e+09  55.783646  12.518382    30.841\n",
       "3          153.0  1.386241e+09  55.783648  12.518408    21.368\n",
       "4          153.0  1.386242e+09  55.783680  12.518435    21.000\n",
       "...          ...           ...        ...        ...       ...\n",
       "245304792   99.0  1.406627e+09  55.740993  12.494146    20.000\n",
       "245304793   99.0  1.406627e+09  55.740994  12.494182    24.000\n",
       "245304794   99.0  1.406627e+09  55.740994  12.494161    15.364\n",
       "245304795   99.0  1.406627e+09  55.740950  12.494317    25.065\n",
       "245304796   99.0  1.406627e+09  55.740950  12.494317    25.065\n",
       "\n",
       "[245304797 rows x 5 columns]"
      ]
     },
     "execution_count": 216,
     "metadata": {},
     "output_type": "execute_result"
    }
   ],
   "source": [
    "df"
   ]
  },
  {
   "cell_type": "code",
   "execution_count": 6,
   "metadata": {},
   "outputs": [],
   "source": [
    "# for each np array in data extract the 2. 3. and 4. column (time, lat, lon) and append them to a new list\n",
    "# this is necessary because the infostop algorithm expects a list of np arrays with 3 columns (lat, lon, time)\n",
    "data2 = [d[:,1:4] for d in data]\n",
    "# set column as the last column (time)\n",
    "data2 = [np.roll(d, -1, axis=1) for d in data2]\n"
   ]
  },
  {
   "cell_type": "markdown",
   "metadata": {},
   "source": [
    "Run stop location algorithm with default parameters on all users.\n",
    "\n",
    "parameters are:\n",
    "- r1 = 10: Max distance between time-consecutive points to label them as stationary\n",
    "- r2 = 10: Max distance between stationary points to form an edge.\n",
    "- label_singleton = True: If True, give stationary locations that was only visited once their own label. If False, label them as non-stationary (-1).\n",
    "- min_staying_time = 300: The shortest duration that can constitute a stop.\n",
    "- max_time_between=86400: The longest duration  that can constitute a stop.\n",
    "- min_size = 2: The minimum number of points in a cluster to be considered a stop.\n",
    "min_spacial_resolution : float\n",
    "            The minimal difference allowed between points before they are considered the same points.\n",
    "            Highly useful for spatially downsampling data and which dramatically reduces runtime. Higher\n",
    "            values yields higher downsampling. For geo data, it is not recommended to increase it beyond\n",
    "            1e-4. 1e-5, typically works well and has little impact on results.\n",
    "\n",
    "\n",
    "\n",
    "\n",
    "\n"
   ]
  },
  {
   "cell_type": "code",
   "execution_count": 2,
   "metadata": {},
   "outputs": [],
   "source": [
    "from infostop import Infostop\n",
    "model = Infostop(r1=10,\n",
    "        r2=10,\n",
    "        label_singleton=True,\n",
    "        min_staying_time=300,\n",
    "        max_time_between=86400,\n",
    "        min_size=2,\n",
    "        min_spacial_resolution=0,\n",
    "        distance_metric=\"haversine\",\n",
    "        weighted=False,\n",
    "        weight_exponent=1,\n",
    "        verbose=False)\n"
   ]
  },
  {
   "cell_type": "code",
   "execution_count": 17,
   "metadata": {},
   "outputs": [
    {
     "name": "stderr",
     "output_type": "stream",
     "text": [
      "100%|███████████████████████████████████████████████| 840/840 [3:41:02<00:00, 15.79s/it]\n"
     ]
    }
   ],
   "source": [
    "# for each array in data2 run the infostop algorithm and save the result in a list use tqdm to show a progress bar\n",
    "from tqdm import tqdm\n",
    "labels = []\n",
    "for d in tqdm(data2):\n",
    "    labels.append(model.fit_predict(d))"
   ]
  },
  {
   "cell_type": "code",
   "execution_count": 21,
   "metadata": {},
   "outputs": [],
   "source": [
    "# merge the labels with the original data\n",
    "data3 = []\n",
    "for i in range(len(data)):\n",
    "    data3.append(np.hstack((data[i], labels[i].reshape(-1,1))))"
   ]
  },
  {
   "cell_type": "code",
   "execution_count": 31,
   "metadata": {},
   "outputs": [],
   "source": [
    "# add labels to the dataframe\n",
    "df['stoplocation'] = np.concatenate(labels)\n"
   ]
  },
  {
   "cell_type": "code",
   "execution_count": 32,
   "metadata": {},
   "outputs": [],
   "source": [
    "# remove column label from dataframe\n",
    "df = df.drop(columns=['label'])\n"
   ]
  },
  {
   "cell_type": "code",
   "execution_count": 36,
   "metadata": {},
   "outputs": [],
   "source": [
    "# save dataframe as pickle\n",
    "df.to_pickle('../data/stoplocation.pkl')"
   ]
  }
 ],
 "metadata": {
  "kernelspec": {
   "display_name": "Python 3 (ipykernel)",
   "language": "python",
   "name": "python3"
  },
  "orig_nbformat": 4
 },
 "nbformat": 4,
 "nbformat_minor": 2
}
