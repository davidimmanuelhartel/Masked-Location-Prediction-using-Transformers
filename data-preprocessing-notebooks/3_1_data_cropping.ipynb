{
 "cells": [
  {
   "cell_type": "code",
   "execution_count": 112,
   "metadata": {},
   "outputs": [],
   "source": [
    "import numpy as np\n",
    "import pandas as pd\n",
    "import matplotlib.pyplot as plt\n",
    "import seaborn as sns"
   ]
  },
  {
   "cell_type": "markdown",
   "metadata": {},
   "source": [
    "# Data cropping  "
   ]
  },
  {
   "cell_type": "code",
   "execution_count": 113,
   "metadata": {},
   "outputs": [],
   "source": [
    "df = pd.read_pickle('../data/data_discretised_200.pkl') "
   ]
  },
  {
   "cell_type": "code",
   "execution_count": 114,
   "metadata": {},
   "outputs": [
    {
     "data": {
      "text/html": [
       "<div>\n",
       "<style scoped>\n",
       "    .dataframe tbody tr th:only-of-type {\n",
       "        vertical-align: middle;\n",
       "    }\n",
       "\n",
       "    .dataframe tbody tr th {\n",
       "        vertical-align: top;\n",
       "    }\n",
       "\n",
       "    .dataframe thead th {\n",
       "        text-align: right;\n",
       "    }\n",
       "</style>\n",
       "<table border=\"1\" class=\"dataframe\">\n",
       "  <thead>\n",
       "    <tr style=\"text-align: right;\">\n",
       "      <th></th>\n",
       "      <th>user</th>\n",
       "      <th>year</th>\n",
       "      <th>month</th>\n",
       "      <th>day</th>\n",
       "      <th>hour</th>\n",
       "      <th>30min_interval</th>\n",
       "      <th>timestamp</th>\n",
       "      <th>stoplocation</th>\n",
       "      <th>latitude</th>\n",
       "      <th>longitude</th>\n",
       "      <th>lat_bin</th>\n",
       "      <th>lon_bin</th>\n",
       "    </tr>\n",
       "  </thead>\n",
       "  <tbody>\n",
       "    <tr>\n",
       "      <th>0</th>\n",
       "      <td>0.0</td>\n",
       "      <td>2013</td>\n",
       "      <td>10</td>\n",
       "      <td>31</td>\n",
       "      <td>12</td>\n",
       "      <td>1.0</td>\n",
       "      <td>2013-10-31 12:16:30</td>\n",
       "      <td>98</td>\n",
       "      <td>55.783644</td>\n",
       "      <td>12.518416</td>\n",
       "      <td>143</td>\n",
       "      <td>142</td>\n",
       "    </tr>\n",
       "    <tr>\n",
       "      <th>1</th>\n",
       "      <td>0.0</td>\n",
       "      <td>2013</td>\n",
       "      <td>10</td>\n",
       "      <td>31</td>\n",
       "      <td>12</td>\n",
       "      <td>2.0</td>\n",
       "      <td>2013-10-31 12:30:44</td>\n",
       "      <td>28</td>\n",
       "      <td>55.781990</td>\n",
       "      <td>12.521609</td>\n",
       "      <td>142</td>\n",
       "      <td>143</td>\n",
       "    </tr>\n",
       "    <tr>\n",
       "      <th>2</th>\n",
       "      <td>0.0</td>\n",
       "      <td>2013</td>\n",
       "      <td>10</td>\n",
       "      <td>31</td>\n",
       "      <td>13</td>\n",
       "      <td>1.0</td>\n",
       "      <td>2013-10-31 13:01:29</td>\n",
       "      <td>28</td>\n",
       "      <td>55.781990</td>\n",
       "      <td>12.521609</td>\n",
       "      <td>142</td>\n",
       "      <td>143</td>\n",
       "    </tr>\n",
       "    <tr>\n",
       "      <th>3</th>\n",
       "      <td>0.0</td>\n",
       "      <td>2013</td>\n",
       "      <td>10</td>\n",
       "      <td>31</td>\n",
       "      <td>13</td>\n",
       "      <td>2.0</td>\n",
       "      <td>2013-10-31 13:30:59</td>\n",
       "      <td>28</td>\n",
       "      <td>55.781990</td>\n",
       "      <td>12.521609</td>\n",
       "      <td>142</td>\n",
       "      <td>143</td>\n",
       "    </tr>\n",
       "    <tr>\n",
       "      <th>4</th>\n",
       "      <td>0.0</td>\n",
       "      <td>2013</td>\n",
       "      <td>10</td>\n",
       "      <td>31</td>\n",
       "      <td>14</td>\n",
       "      <td>1.0</td>\n",
       "      <td>2013-10-31 14:00:52</td>\n",
       "      <td>28</td>\n",
       "      <td>55.781990</td>\n",
       "      <td>12.521609</td>\n",
       "      <td>142</td>\n",
       "      <td>143</td>\n",
       "    </tr>\n",
       "    <tr>\n",
       "      <th>...</th>\n",
       "      <td>...</td>\n",
       "      <td>...</td>\n",
       "      <td>...</td>\n",
       "      <td>...</td>\n",
       "      <td>...</td>\n",
       "      <td>...</td>\n",
       "      <td>...</td>\n",
       "      <td>...</td>\n",
       "      <td>...</td>\n",
       "      <td>...</td>\n",
       "      <td>...</td>\n",
       "      <td>...</td>\n",
       "    </tr>\n",
       "    <tr>\n",
       "      <th>12827787</th>\n",
       "      <td>851.0</td>\n",
       "      <td>2015</td>\n",
       "      <td>8</td>\n",
       "      <td>7</td>\n",
       "      <td>20</td>\n",
       "      <td>1.0</td>\n",
       "      <td>2015-08-07 20:03:13</td>\n",
       "      <td>26</td>\n",
       "      <td>56.123877</td>\n",
       "      <td>9.849060</td>\n",
       "      <td>200</td>\n",
       "      <td>0</td>\n",
       "    </tr>\n",
       "    <tr>\n",
       "      <th>12827788</th>\n",
       "      <td>851.0</td>\n",
       "      <td>2015</td>\n",
       "      <td>8</td>\n",
       "      <td>7</td>\n",
       "      <td>20</td>\n",
       "      <td>2.0</td>\n",
       "      <td>2015-08-07 20:33:14</td>\n",
       "      <td>26</td>\n",
       "      <td>56.123877</td>\n",
       "      <td>9.849060</td>\n",
       "      <td>200</td>\n",
       "      <td>0</td>\n",
       "    </tr>\n",
       "    <tr>\n",
       "      <th>12827789</th>\n",
       "      <td>851.0</td>\n",
       "      <td>2015</td>\n",
       "      <td>8</td>\n",
       "      <td>7</td>\n",
       "      <td>21</td>\n",
       "      <td>1.0</td>\n",
       "      <td>2015-08-07 21:03:15</td>\n",
       "      <td>26</td>\n",
       "      <td>56.123877</td>\n",
       "      <td>9.849060</td>\n",
       "      <td>200</td>\n",
       "      <td>0</td>\n",
       "    </tr>\n",
       "    <tr>\n",
       "      <th>12827790</th>\n",
       "      <td>851.0</td>\n",
       "      <td>2015</td>\n",
       "      <td>8</td>\n",
       "      <td>7</td>\n",
       "      <td>21</td>\n",
       "      <td>2.0</td>\n",
       "      <td>2015-08-07 21:33:15</td>\n",
       "      <td>26</td>\n",
       "      <td>56.123877</td>\n",
       "      <td>9.849060</td>\n",
       "      <td>200</td>\n",
       "      <td>0</td>\n",
       "    </tr>\n",
       "    <tr>\n",
       "      <th>12827791</th>\n",
       "      <td>851.0</td>\n",
       "      <td>2015</td>\n",
       "      <td>8</td>\n",
       "      <td>7</td>\n",
       "      <td>22</td>\n",
       "      <td>1.0</td>\n",
       "      <td>2015-08-07 22:02:58</td>\n",
       "      <td>26</td>\n",
       "      <td>56.123877</td>\n",
       "      <td>9.849060</td>\n",
       "      <td>200</td>\n",
       "      <td>0</td>\n",
       "    </tr>\n",
       "  </tbody>\n",
       "</table>\n",
       "<p>12827792 rows × 12 columns</p>\n",
       "</div>"
      ],
      "text/plain": [
       "           user  year  month  day  hour  30min_interval           timestamp  \\\n",
       "0           0.0  2013     10   31    12             1.0 2013-10-31 12:16:30   \n",
       "1           0.0  2013     10   31    12             2.0 2013-10-31 12:30:44   \n",
       "2           0.0  2013     10   31    13             1.0 2013-10-31 13:01:29   \n",
       "3           0.0  2013     10   31    13             2.0 2013-10-31 13:30:59   \n",
       "4           0.0  2013     10   31    14             1.0 2013-10-31 14:00:52   \n",
       "...         ...   ...    ...  ...   ...             ...                 ...   \n",
       "12827787  851.0  2015      8    7    20             1.0 2015-08-07 20:03:13   \n",
       "12827788  851.0  2015      8    7    20             2.0 2015-08-07 20:33:14   \n",
       "12827789  851.0  2015      8    7    21             1.0 2015-08-07 21:03:15   \n",
       "12827790  851.0  2015      8    7    21             2.0 2015-08-07 21:33:15   \n",
       "12827791  851.0  2015      8    7    22             1.0 2015-08-07 22:02:58   \n",
       "\n",
       "          stoplocation   latitude  longitude  lat_bin  lon_bin  \n",
       "0                   98  55.783644  12.518416      143      142  \n",
       "1                   28  55.781990  12.521609      142      143  \n",
       "2                   28  55.781990  12.521609      142      143  \n",
       "3                   28  55.781990  12.521609      142      143  \n",
       "4                   28  55.781990  12.521609      142      143  \n",
       "...                ...        ...        ...      ...      ...  \n",
       "12827787            26  56.123877   9.849060      200        0  \n",
       "12827788            26  56.123877   9.849060      200        0  \n",
       "12827789            26  56.123877   9.849060      200        0  \n",
       "12827790            26  56.123877   9.849060      200        0  \n",
       "12827791            26  56.123877   9.849060      200        0  \n",
       "\n",
       "[12827792 rows x 12 columns]"
      ]
     },
     "execution_count": 114,
     "metadata": {},
     "output_type": "execute_result"
    }
   ],
   "source": [
    "df"
   ]
  },
  {
   "cell_type": "code",
   "execution_count": 115,
   "metadata": {},
   "outputs": [],
   "source": [
    "# Create the datetime column without considering 30min_interval\n",
    "df['date'] = pd.to_datetime(df[['year', 'month', 'day', 'hour']])\n",
    "\n",
    "# Add the 30min_interval as a Timedelta\n",
    "df['date'] += pd.to_timedelta(df['30min_interval'] * 30, unit='m')"
   ]
  },
  {
   "cell_type": "code",
   "execution_count": 116,
   "metadata": {},
   "outputs": [
    {
     "data": {
      "text/html": [
       "<div>\n",
       "<style scoped>\n",
       "    .dataframe tbody tr th:only-of-type {\n",
       "        vertical-align: middle;\n",
       "    }\n",
       "\n",
       "    .dataframe tbody tr th {\n",
       "        vertical-align: top;\n",
       "    }\n",
       "\n",
       "    .dataframe thead th {\n",
       "        text-align: right;\n",
       "    }\n",
       "</style>\n",
       "<table border=\"1\" class=\"dataframe\">\n",
       "  <thead>\n",
       "    <tr style=\"text-align: right;\">\n",
       "      <th></th>\n",
       "      <th>user</th>\n",
       "      <th>year</th>\n",
       "      <th>month</th>\n",
       "      <th>day</th>\n",
       "      <th>hour</th>\n",
       "      <th>30min_interval</th>\n",
       "      <th>timestamp</th>\n",
       "      <th>stoplocation</th>\n",
       "      <th>latitude</th>\n",
       "      <th>longitude</th>\n",
       "      <th>lat_bin</th>\n",
       "      <th>lon_bin</th>\n",
       "      <th>date</th>\n",
       "    </tr>\n",
       "  </thead>\n",
       "  <tbody>\n",
       "    <tr>\n",
       "      <th>0</th>\n",
       "      <td>0.0</td>\n",
       "      <td>2013</td>\n",
       "      <td>10</td>\n",
       "      <td>31</td>\n",
       "      <td>12</td>\n",
       "      <td>1.0</td>\n",
       "      <td>2013-10-31 12:16:30</td>\n",
       "      <td>98</td>\n",
       "      <td>55.783644</td>\n",
       "      <td>12.518416</td>\n",
       "      <td>143</td>\n",
       "      <td>142</td>\n",
       "      <td>2013-10-31 12:30:00</td>\n",
       "    </tr>\n",
       "    <tr>\n",
       "      <th>1</th>\n",
       "      <td>0.0</td>\n",
       "      <td>2013</td>\n",
       "      <td>10</td>\n",
       "      <td>31</td>\n",
       "      <td>12</td>\n",
       "      <td>2.0</td>\n",
       "      <td>2013-10-31 12:30:44</td>\n",
       "      <td>28</td>\n",
       "      <td>55.781990</td>\n",
       "      <td>12.521609</td>\n",
       "      <td>142</td>\n",
       "      <td>143</td>\n",
       "      <td>2013-10-31 13:00:00</td>\n",
       "    </tr>\n",
       "    <tr>\n",
       "      <th>2</th>\n",
       "      <td>0.0</td>\n",
       "      <td>2013</td>\n",
       "      <td>10</td>\n",
       "      <td>31</td>\n",
       "      <td>13</td>\n",
       "      <td>1.0</td>\n",
       "      <td>2013-10-31 13:01:29</td>\n",
       "      <td>28</td>\n",
       "      <td>55.781990</td>\n",
       "      <td>12.521609</td>\n",
       "      <td>142</td>\n",
       "      <td>143</td>\n",
       "      <td>2013-10-31 13:30:00</td>\n",
       "    </tr>\n",
       "    <tr>\n",
       "      <th>3</th>\n",
       "      <td>0.0</td>\n",
       "      <td>2013</td>\n",
       "      <td>10</td>\n",
       "      <td>31</td>\n",
       "      <td>13</td>\n",
       "      <td>2.0</td>\n",
       "      <td>2013-10-31 13:30:59</td>\n",
       "      <td>28</td>\n",
       "      <td>55.781990</td>\n",
       "      <td>12.521609</td>\n",
       "      <td>142</td>\n",
       "      <td>143</td>\n",
       "      <td>2013-10-31 14:00:00</td>\n",
       "    </tr>\n",
       "    <tr>\n",
       "      <th>4</th>\n",
       "      <td>0.0</td>\n",
       "      <td>2013</td>\n",
       "      <td>10</td>\n",
       "      <td>31</td>\n",
       "      <td>14</td>\n",
       "      <td>1.0</td>\n",
       "      <td>2013-10-31 14:00:52</td>\n",
       "      <td>28</td>\n",
       "      <td>55.781990</td>\n",
       "      <td>12.521609</td>\n",
       "      <td>142</td>\n",
       "      <td>143</td>\n",
       "      <td>2013-10-31 14:30:00</td>\n",
       "    </tr>\n",
       "    <tr>\n",
       "      <th>...</th>\n",
       "      <td>...</td>\n",
       "      <td>...</td>\n",
       "      <td>...</td>\n",
       "      <td>...</td>\n",
       "      <td>...</td>\n",
       "      <td>...</td>\n",
       "      <td>...</td>\n",
       "      <td>...</td>\n",
       "      <td>...</td>\n",
       "      <td>...</td>\n",
       "      <td>...</td>\n",
       "      <td>...</td>\n",
       "      <td>...</td>\n",
       "    </tr>\n",
       "    <tr>\n",
       "      <th>12827787</th>\n",
       "      <td>851.0</td>\n",
       "      <td>2015</td>\n",
       "      <td>8</td>\n",
       "      <td>7</td>\n",
       "      <td>20</td>\n",
       "      <td>1.0</td>\n",
       "      <td>2015-08-07 20:03:13</td>\n",
       "      <td>26</td>\n",
       "      <td>56.123877</td>\n",
       "      <td>9.849060</td>\n",
       "      <td>200</td>\n",
       "      <td>0</td>\n",
       "      <td>2015-08-07 20:30:00</td>\n",
       "    </tr>\n",
       "    <tr>\n",
       "      <th>12827788</th>\n",
       "      <td>851.0</td>\n",
       "      <td>2015</td>\n",
       "      <td>8</td>\n",
       "      <td>7</td>\n",
       "      <td>20</td>\n",
       "      <td>2.0</td>\n",
       "      <td>2015-08-07 20:33:14</td>\n",
       "      <td>26</td>\n",
       "      <td>56.123877</td>\n",
       "      <td>9.849060</td>\n",
       "      <td>200</td>\n",
       "      <td>0</td>\n",
       "      <td>2015-08-07 21:00:00</td>\n",
       "    </tr>\n",
       "    <tr>\n",
       "      <th>12827789</th>\n",
       "      <td>851.0</td>\n",
       "      <td>2015</td>\n",
       "      <td>8</td>\n",
       "      <td>7</td>\n",
       "      <td>21</td>\n",
       "      <td>1.0</td>\n",
       "      <td>2015-08-07 21:03:15</td>\n",
       "      <td>26</td>\n",
       "      <td>56.123877</td>\n",
       "      <td>9.849060</td>\n",
       "      <td>200</td>\n",
       "      <td>0</td>\n",
       "      <td>2015-08-07 21:30:00</td>\n",
       "    </tr>\n",
       "    <tr>\n",
       "      <th>12827790</th>\n",
       "      <td>851.0</td>\n",
       "      <td>2015</td>\n",
       "      <td>8</td>\n",
       "      <td>7</td>\n",
       "      <td>21</td>\n",
       "      <td>2.0</td>\n",
       "      <td>2015-08-07 21:33:15</td>\n",
       "      <td>26</td>\n",
       "      <td>56.123877</td>\n",
       "      <td>9.849060</td>\n",
       "      <td>200</td>\n",
       "      <td>0</td>\n",
       "      <td>2015-08-07 22:00:00</td>\n",
       "    </tr>\n",
       "    <tr>\n",
       "      <th>12827791</th>\n",
       "      <td>851.0</td>\n",
       "      <td>2015</td>\n",
       "      <td>8</td>\n",
       "      <td>7</td>\n",
       "      <td>22</td>\n",
       "      <td>1.0</td>\n",
       "      <td>2015-08-07 22:02:58</td>\n",
       "      <td>26</td>\n",
       "      <td>56.123877</td>\n",
       "      <td>9.849060</td>\n",
       "      <td>200</td>\n",
       "      <td>0</td>\n",
       "      <td>2015-08-07 22:30:00</td>\n",
       "    </tr>\n",
       "  </tbody>\n",
       "</table>\n",
       "<p>12827792 rows × 13 columns</p>\n",
       "</div>"
      ],
      "text/plain": [
       "           user  year  month  day  hour  30min_interval           timestamp  \\\n",
       "0           0.0  2013     10   31    12             1.0 2013-10-31 12:16:30   \n",
       "1           0.0  2013     10   31    12             2.0 2013-10-31 12:30:44   \n",
       "2           0.0  2013     10   31    13             1.0 2013-10-31 13:01:29   \n",
       "3           0.0  2013     10   31    13             2.0 2013-10-31 13:30:59   \n",
       "4           0.0  2013     10   31    14             1.0 2013-10-31 14:00:52   \n",
       "...         ...   ...    ...  ...   ...             ...                 ...   \n",
       "12827787  851.0  2015      8    7    20             1.0 2015-08-07 20:03:13   \n",
       "12827788  851.0  2015      8    7    20             2.0 2015-08-07 20:33:14   \n",
       "12827789  851.0  2015      8    7    21             1.0 2015-08-07 21:03:15   \n",
       "12827790  851.0  2015      8    7    21             2.0 2015-08-07 21:33:15   \n",
       "12827791  851.0  2015      8    7    22             1.0 2015-08-07 22:02:58   \n",
       "\n",
       "          stoplocation   latitude  longitude  lat_bin  lon_bin  \\\n",
       "0                   98  55.783644  12.518416      143      142   \n",
       "1                   28  55.781990  12.521609      142      143   \n",
       "2                   28  55.781990  12.521609      142      143   \n",
       "3                   28  55.781990  12.521609      142      143   \n",
       "4                   28  55.781990  12.521609      142      143   \n",
       "...                ...        ...        ...      ...      ...   \n",
       "12827787            26  56.123877   9.849060      200        0   \n",
       "12827788            26  56.123877   9.849060      200        0   \n",
       "12827789            26  56.123877   9.849060      200        0   \n",
       "12827790            26  56.123877   9.849060      200        0   \n",
       "12827791            26  56.123877   9.849060      200        0   \n",
       "\n",
       "                        date  \n",
       "0        2013-10-31 12:30:00  \n",
       "1        2013-10-31 13:00:00  \n",
       "2        2013-10-31 13:30:00  \n",
       "3        2013-10-31 14:00:00  \n",
       "4        2013-10-31 14:30:00  \n",
       "...                      ...  \n",
       "12827787 2015-08-07 20:30:00  \n",
       "12827788 2015-08-07 21:00:00  \n",
       "12827789 2015-08-07 21:30:00  \n",
       "12827790 2015-08-07 22:00:00  \n",
       "12827791 2015-08-07 22:30:00  \n",
       "\n",
       "[12827792 rows x 13 columns]"
      ]
     },
     "execution_count": 116,
     "metadata": {},
     "output_type": "execute_result"
    }
   ],
   "source": [
    "df"
   ]
  },
  {
   "cell_type": "code",
   "execution_count": 117,
   "metadata": {},
   "outputs": [
    {
     "data": {
      "image/png": "[encoded data removed]",
      "text/plain": [
       "<Figure size 1200x600 with 1 Axes>"
      ]
     },
     "metadata": {},
     "output_type": "display_data"
    }
   ],
   "source": [
    "# Group the data by the 'date' column and count the number of data points for each date\n",
    "date_count = df.groupby('date').size().reset_index(name='count')\n",
    "\n",
    "# Sort by date for better visualization\n",
    "date_count = date_count.sort_values('date')\n",
    "\n",
    "# Plotting\n",
    "plt.figure(figsize=(12, 6))\n",
    "plt.bar(date_count['date'], date_count['count'])\n",
    "plt.xlabel('Date')\n",
    "plt.ylabel('Number of Data Points')\n",
    "plt.title('Number of Data Points for Each Day')\n",
    "plt.xticks(rotation=45)  # Rotate x-axis labels for better visibility\n",
    "plt.grid(axis='y')  # Add horizontal grid lines\n",
    "\n",
    "plt.show()"
   ]
  },
  {
   "cell_type": "markdown",
   "metadata": {},
   "source": [
    "## 1. Select range of data\n",
    "\n",
    "to exclude low quality data"
   ]
  },
  {
   "cell_type": "code",
   "execution_count": 118,
   "metadata": {},
   "outputs": [],
   "source": [
    "# remove all rows with date < 2014-01-05 and date > 2014-06-25\n",
    "df = df[(df['date'] >= '2014-01-05') & (df['date'] <= '2014-06-25')]"
   ]
  },
  {
   "cell_type": "markdown",
   "metadata": {},
   "source": [
    "We add new column to the data frame called \"label\" wich has 4 possible labels: \"stop\", \"moving\", \"outside\", or \"missing\". A row gets the label \"stop\" if it has a positive integer in the column \"stoplocation\", \"moving\" if the column \"stoplocation\" equals -1, \"outside\" if one of lan_bin, or lat_bon equals 200"
   ]
  },
  {
   "cell_type": "code",
   "execution_count": 119,
   "metadata": {},
   "outputs": [
    {
     "name": "stderr",
     "output_type": "stream",
     "text": [
      "/tmp/ipykernel_252003/601936400.py:28: SettingWithCopyWarning: \n",
      "A value is trying to be set on a copy of a slice from a DataFrame.\n",
      "Try using .loc[row_indexer,col_indexer] = value instead\n",
      "\n",
      "See the caveats in the documentation: https://pandas.pydata.org/pandas-docs/stable/user_guide/indexing.html#returning-a-view-versus-a-copy\n",
      "  df['label'] = df.apply(label_row, axis=1)\n"
     ]
    }
   ],
   "source": [
    "def label_row(row):\n",
    "    stoplocation = str(row['stoplocation'])  # Convert stoplocation to string to work with its digits\n",
    "    lat_bin = row['lat_bin']\n",
    "    lon_bin = row['lon_bin']\n",
    "\n",
    "    # Check last two digits of 'stoplocation'\n",
    "    last_two_digits = stoplocation[-2:]\n",
    "    last_digit = stoplocation[-1:]\n",
    "\n",
    "    # Label as 'stop'\n",
    "    if last_two_digits.isnumeric() and int(last_two_digits) > -1:\n",
    "        return 'stop'\n",
    "    elif last_digit.isnumeric() and int(last_digit) > 0:\n",
    "        return 'stop' \n",
    "    elif last_two_digits == '_1':\n",
    "        return 'stop'\n",
    "    # Label as 'moving'\n",
    "    elif last_two_digits == '-1':\n",
    "        return 'moving'\n",
    "    # Label as 'outside'\n",
    "    elif lat_bin == 200 or lat_bin == 0 or lon_bin == 200 or lon_bin == 0:\n",
    "        return 'outside'\n",
    "    # Label as 'missing'\n",
    "    else:\n",
    "        return 'missing'\n",
    "\n",
    "# Apply the custom function to each row to create the 'label' column\n",
    "df['label'] = df.apply(label_row, axis=1)\n"
   ]
  },
  {
   "cell_type": "code",
   "execution_count": 120,
   "metadata": {},
   "outputs": [
    {
     "name": "stderr",
     "output_type": "stream",
     "text": [
      "/tmp/ipykernel_252003/582493947.py:2: SettingWithCopyWarning: \n",
      "A value is trying to be set on a copy of a slice from a DataFrame.\n",
      "Try using .loc[row_indexer,col_indexer] = value instead\n",
      "\n",
      "See the caveats in the documentation: https://pandas.pydata.org/pandas-docs/stable/user_guide/indexing.html#returning-a-view-versus-a-copy\n",
      "  df['label'] = df.apply(lambda row:\n"
     ]
    }
   ],
   "source": [
    "# Adding a new column 'label' based on the conditions\n",
    "df['label'] = df.apply(lambda row: \n",
    "                        'outside' if row['lat_bin'] == 200 or row['lat_bin'] == 0 or row['lon_bin'] == 200 or row['lon_bin'] == 0 else\n",
    "                        ('stop' if str(row['stoplocation']).split('_')[-1] != '-1' else \n",
    "                         ('moving' if str(row['stoplocation']).split('_')[-1] == '-1' else \n",
    "                          'missing')),\n",
    "                        axis=1)"
   ]
  },
  {
   "cell_type": "code",
   "execution_count": 121,
   "metadata": {},
   "outputs": [
    {
     "data": {
      "image/png": "[encoded data removed]",
      "text/plain": [
       "<Figure size 640x480 with 1 Axes>"
      ]
     },
     "metadata": {},
     "output_type": "display_data"
    }
   ],
   "source": [
    "# show the distribution of the labels as bar chart in percentage\n",
    "df['label'].value_counts(normalize=True).plot(kind='bar')\n",
    "# add value labels and center the text\n",
    "for index, value in enumerate(df['label'].value_counts(normalize=True)):\n",
    "    plt.text(index, value/2, str(round(value*100, 2))+'%', ha='center', color='white', fontsize=12)\n",
    "plt.title('Distribution of Labels')\n",
    "plt.ylabel('Percentage')\n",
    "# save the plot as png image\n",
    "plt.savefig('../figures/label_distribution.png', bbox_inches='tight', dpi=300)"
   ]
  },
  {
   "cell_type": "markdown",
   "metadata": {},
   "source": [
    "## 2. Remove data with position outside or moving"
   ]
  },
  {
   "cell_type": "code",
   "execution_count": 122,
   "metadata": {},
   "outputs": [],
   "source": [
    "# remove all rows with label other than 'stop' \n",
    "df = df[df['label'] == 'stop']"
   ]
  },
  {
   "cell_type": "code",
   "execution_count": 123,
   "metadata": {},
   "outputs": [],
   "source": [
    "df['week_of_year'] = df['date'].dt.isocalendar()['week']\n"
   ]
  },
  {
   "cell_type": "markdown",
   "metadata": {},
   "source": [
    "### add user_week as new index"
   ]
  },
  {
   "cell_type": "code",
   "execution_count": 124,
   "metadata": {},
   "outputs": [],
   "source": [
    "def create_user_week(row):\n",
    "    # Convert the float 'user' value to an integer\n",
    "    user_int = int(float(row['user']))\n",
    "    \n",
    "    # Convert 'week_of_year' to an integer (it's usually already an integer)\n",
    "    week_int = int(row['week_of_year'])\n",
    "    \n",
    "    # Format both as zero-padded two-digit strings\n",
    "    user_str = f\"{user_int:02d}\"\n",
    "    week_str = f\"{week_int:02d}\"\n",
    "    \n",
    "    # Combine them into a single string with '_w' in between\n",
    "    return f\"u{user_str}_w{week_str}\"\n",
    "\n",
    "df['user_week'] = df.apply(create_user_week, axis=1)"
   ]
  },
  {
   "cell_type": "markdown",
   "metadata": {},
   "source": [
    "## 3. remove rows with the same position as the previous row"
   ]
  },
  {
   "cell_type": "code",
   "execution_count": 125,
   "metadata": {},
   "outputs": [],
   "source": [
    "# create a coulumn \"pos\" with lat_bin and lon_bin as tuple\n",
    "df['pos'] = df[['lat_bin', 'lon_bin']].apply(tuple, axis=1)\n",
    "# transform pos column to string\n",
    "df['pos'] = df['pos'].astype(str)"
   ]
  },
  {
   "cell_type": "code",
   "execution_count": 126,
   "metadata": {},
   "outputs": [],
   "source": [
    "df.sort_values(by=['user_week', 'date'], inplace=True) #eventually replace user with user_week\n",
    "\n",
    "# Group by 'user_week' and filter out consecutive duplicates in 'pos'\n",
    "def filter_consecutive_duplicates(group):\n",
    "    return group[group['pos'] != group['pos'].shift()]\n",
    "\n",
    "df = df.groupby('user_week').apply(filter_consecutive_duplicates).reset_index(drop=True)"
   ]
  },
  {
   "cell_type": "markdown",
   "metadata": {},
   "source": [
    "## 4. remove user weeks with more than 1 day of missing data"
   ]
  },
  {
   "cell_type": "code",
   "execution_count": 127,
   "metadata": {},
   "outputs": [],
   "source": [
    "# add day of week column\n",
    "df['day_of_week'] = df['date'].dt.dayofweek"
   ]
  },
  {
   "cell_type": "code",
   "execution_count": 128,
   "metadata": {},
   "outputs": [],
   "source": [
    "# group df by user_week and count the days for each user_week\n",
    "user_week_day_count = df.groupby('user_week').agg({'day_of_week': 'nunique'}).reset_index()"
   ]
  },
  {
   "cell_type": "code",
   "execution_count": 129,
   "metadata": {},
   "outputs": [
    {
     "data": {
      "image/png": "[encoded data removed]",
      "text/plain": [
       "<Figure size 640x480 with 1 Axes>"
      ]
     },
     "metadata": {},
     "output_type": "display_data"
    }
   ],
   "source": [
    "# show the distribution of the days of week as bar chart in percetage\n",
    "user_week_day_count['day_of_week'].value_counts(normalize=True).plot(kind='bar')\n",
    "# add labels and center the text\n",
    "for index, value in enumerate(user_week_day_count['day_of_week'].value_counts(normalize=True)):\n",
    "    plt.text(index, value/2, str(round(value*100, 2))+'%', ha='center', color='white', fontsize=12)\n",
    "plt.title('Distribution of Days of Week')\n",
    "plt.ylabel('Number of Users')\n",
    "plt.xlabel('Number of Days')\n",
    "# save the plot as png image\n",
    "plt.savefig('../figures/days_of_week_distribution.png', bbox_inches='tight', dpi=300)\n"
   ]
  },
  {
   "cell_type": "code",
   "execution_count": 130,
   "metadata": {},
   "outputs": [],
   "source": [
    "# remove all user_weeks from df with more than 1 day of missing data\n",
    "user_week_day_count = user_week_day_count[user_week_day_count['day_of_week'] >= 5]\n",
    "df = df[df['user_week'].isin(user_week_day_count['user_week'])]"
   ]
  },
  {
   "cell_type": "code",
   "execution_count": 141,
   "metadata": {},
   "outputs": [
    {
     "data": {
      "image/png": "[encoded data removed]",
      "text/plain": [
       "<Figure size 600x400 with 1 Axes>"
      ]
     },
     "metadata": {},
     "output_type": "display_data"
    }
   ],
   "source": [
    "import matplotlib.pyplot as plt\n",
    "\n",
    "# Assuming df is your DataFrame\n",
    "\n",
    "# Group by user_week and count the number of data points for each user_week\n",
    "data_points_per_user_week = df.groupby('user_week').size()\n",
    "\n",
    "# Calculate the mean value of data points per user week\n",
    "mean_value = data_points_per_user_week.mean()\n",
    "\n",
    "# set figure size\n",
    "plt.figure(figsize=(6, 4))\n",
    "\n",
    "# Plot the distribution of data points per user week\n",
    "data_points_per_user_week.plot(kind='hist', bins=88, alpha=0.75)\n",
    "\n",
    "\n",
    "# Add a vertical line for the mean value\n",
    "plt.axvline(mean_value, color='r', linestyle='dashed', linewidth=2)\n",
    "\n",
    "\n",
    "\n",
    "# Add a legend to the plot\n",
    "plt.legend([ 'Distribution', 'Mean Value'])\n",
    "\n",
    "# Add labels and title\n",
    "plt.title('Samples per Week')\n",
    "plt.xlabel('Number of Data Points')\n",
    "plt.ylabel('Number of Weeks')\n",
    "\n",
    "# Save the plot as a PNG image\n",
    "plt.savefig('../figures/data_points_distribution.png', bbox_inches='tight', dpi=300)\n"
   ]
  },
  {
   "cell_type": "markdown",
   "metadata": {},
   "source": [
    "Add rank as new column"
   ]
  },
  {
   "cell_type": "code",
   "execution_count": 132,
   "metadata": {},
   "outputs": [],
   "source": [
    "# count visits for each user-location pair\n",
    "visit_counts = df.groupby(['user', 'stoplocation']).size().reset_index(name='visit_count')\n",
    "\n",
    "# Rank locations for each user based on visit counts\n",
    "visit_counts['rank'] = visit_counts.groupby('user')['visit_count'].rank(ascending=False, method='min')\n",
    "\n",
    "# Convert ranks to integers\n",
    "visit_counts['rank'] = visit_counts['rank'].astype(int)\n",
    "\n",
    "# Merge this back into the original DataFrame\n",
    "df = df.merge(visit_counts[['user', 'stoplocation', 'rank']], on=['user', 'stoplocation'])\n"
   ]
  },
  {
   "cell_type": "code",
   "execution_count": 133,
   "metadata": {},
   "outputs": [],
   "source": [
    "# save as csv file\n",
    "df.to_csv('../data/data_all_features_1000.csv')\n"
   ]
  },
  {
   "cell_type": "code",
   "execution_count": 134,
   "metadata": {},
   "outputs": [],
   "source": [
    "# # load the data\n",
    "# import pandas as pd\n",
    "# df = pd.read_csv('../data/data_all_features.csv', index_col=0)"
   ]
  },
  {
   "cell_type": "markdown",
   "metadata": {},
   "source": [
    "## 6. remove unnecessary columns"
   ]
  },
  {
   "cell_type": "code",
   "execution_count": 135,
   "metadata": {},
   "outputs": [],
   "source": [
    "#remove all unnecessary columns: \"year\", \"month\", \"day\", \"hour\", \"30min_interval\", \"longitude\", \"latitude\", \"label\", \"week_of_year\", \"day_of_week\", timestamp, stoplocation\n",
    "df = df.drop(columns=[ 'year', 'month', 'day', 'hour', '30min_interval', 'longitude', 'latitude', 'label', 'week_of_year', 'day_of_week', 'timestamp', 'stoplocation','lat_bin', 'lon_bin']) # eventually remove also 'rank'"
   ]
  },
  {
   "cell_type": "code",
   "execution_count": 136,
   "metadata": {},
   "outputs": [],
   "source": [
    "# save as csv file\n",
    "df.to_csv('../data/final_data_1000.csv', index=False)"
   ]
  }
 ],
 "metadata": {
  "kernelspec": {
   "display_name": "Python 3 (ipykernel)",
   "language": "python",
   "name": "python3"
  },
  "language_info": {
   "codemirror_mode": {
    "name": "ipython",
    "version": 3
   },
   "file_extension": ".py",
   "mimetype": "text/x-python",
   "name": "python",
   "nbconvert_exporter": "python",
   "pygments_lexer": "ipython3",
   "version": "3.9.18"
  },
  "orig_nbformat": 4
 },
 "nbformat": 4,
 "nbformat_minor": 2
}
